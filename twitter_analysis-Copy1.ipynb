{
 "cells": [
  {
   "cell_type": "markdown",
   "metadata": {},
   "source": [
    "# Twitter Sentiment Analysis"
   ]
  },
  {
   "cell_type": "markdown",
   "metadata": {},
   "source": [
    "This notebook is a twitter sentiment analysis of the Apple WWDC 2020 to get an idea about how the people on twitter were reacting to the WWDC and the announcements made there.\n",
    "\n",
    "WWDC : The Apple Worldwide Developers Conference (Apple WWDC) is its annual Worldwide Developers Conference which includes exciting reveals, inspiration, and new opportunities for the developers to continue creating the most innovative apps in the world. The WWDC 2020 was held remotely this year due to the Covid-19 pandemic. \n",
    "\n",
    "Dataset : The dataset used in this notebook for the sentiment analysis purpose is obtained by capturing relevant data from Twitter using the Twitter API. "
   ]
  },
  {
   "cell_type": "code",
   "execution_count": 34,
   "metadata": {},
   "outputs": [],
   "source": [
    "#importing the necessary libraries\n",
    "import configparser\n",
    "import os\n",
    "import tweepy as tw\n",
    "import nltk\n",
    "import pandas as pd\n",
    "import re, string\n",
    "from nltk.corpus import twitter_samples\n",
    "from nltk import FreqDist\n",
    "from nltk.tag import pos_tag\n",
    "from nltk.stem.wordnet import WordNetLemmatizer\n",
    "from nltk.corpus import stopwords\n",
    "from nltk import classify\n",
    "from nltk import NaiveBayesClassifier\n",
    "import random\n",
    "from nltk.tokenize import word_tokenize\n",
    "import spacy\n",
    "import seaborn as sns\n",
    "import matplotlib.pyplot as plt"
   ]
  },
  {
   "cell_type": "markdown",
   "metadata": {},
   "source": [
    "# Capturing the data:"
   ]
  },
  {
   "cell_type": "markdown",
   "metadata": {},
   "source": [
    "The first important step is to obtain the necessary data needed for the analysis and for that purpose we have captured data from Twitter related to the WWDC by using Twitter API as described in the following steps:"
   ]
  },
  {
   "cell_type": "markdown",
   "metadata": {},
   "source": [
    "The 'twitter.properties' file is a property file which consists of all the necessary api keys and twitter access tokens and to parse that file we are using the Configparser:"
   ]
  },
  {
   "cell_type": "code",
   "execution_count": 5,
   "metadata": {},
   "outputs": [
    {
     "name": "stdout",
     "output_type": "stream",
     "text": [
      "['twitter']\n"
     ]
    }
   ],
   "source": [
    "#using the configparser to read the properties file which contains the twitter access tokens and api keys\n",
    "config = configparser.RawConfigParser()\n",
    "config.read('twitter.properties')\n",
    "\n",
    "print(config.sections())"
   ]
  },
  {
   "cell_type": "code",
   "execution_count": 6,
   "metadata": {},
   "outputs": [],
   "source": [
    "#storing the access tokens and apikeys from the properties file to local variables\n",
    "accesstoken=config.get('twitter','accesstoken')\n",
    "accesstokensecret=config.get('twitter','accesstokensecret')\n",
    "apikey=config.get('twitter','apikey')\n",
    "apisecretkey=config.get('twitter','apisecretkey')"
   ]
  },
  {
   "cell_type": "markdown",
   "metadata": {},
   "source": [
    "To access the twitter api the authentication is performed by passing the apikey and accesscode by using the tweepy library:"
   ]
  },
  {
   "cell_type": "code",
   "execution_count": 7,
   "metadata": {},
   "outputs": [],
   "source": [
    "#authenticating the access to twitter using the access tokens and api keys\n",
    "auth = tw.OAuthHandler(apikey,apisecretkey)\n",
    "auth.set_access_token(accesstoken,accesstokensecret)\n",
    "api = tw.API(auth, wait_on_rate_limit=True)"
   ]
  },
  {
   "cell_type": "markdown",
   "metadata": {},
   "source": [
    "The search word for searching in the twitter api is set to #wwdc to cover all the tweets which contains this hashtag and the date for searching is set to '2020-06-22' which is the date the conference was held. Thus it will fetch all the tweets from that date till today containing the #wwdc hashtag but since the 'wait_on_rate_limit' is set to true it will first fetch the first 1500 tweets only and then inorder to fetch more tweets we need to wait for 10 minutes. "
   ]
  },
  {
   "cell_type": "code",
   "execution_count": 8,
   "metadata": {},
   "outputs": [],
   "source": [
    "#setting the search word as #wwdc and the date to the conference date\n",
    "search_words = '#wwdc'\n",
    "date_since = '2020-06-22'"
   ]
  },
  {
   "cell_type": "markdown",
   "metadata": {},
   "source": [
    "Due to limited computation power we are only selecting 200 tweets for the dataset and the analysis purpose:"
   ]
  },
  {
   "cell_type": "code",
   "execution_count": 9,
   "metadata": {},
   "outputs": [],
   "source": [
    "#getting the tweets containing the search word from the set date \n",
    "tweets = tw.Cursor(api.search,q=search_words,lang=\"en\",since=date_since).items(200)"
   ]
  },
  {
   "cell_type": "code",
   "execution_count": 10,
   "metadata": {},
   "outputs": [
    {
     "data": {
      "text/plain": [
       "<tweepy.cursor.ItemIterator at 0x24881a7c488>"
      ]
     },
     "execution_count": 10,
     "metadata": {},
     "output_type": "execute_result"
    }
   ],
   "source": [
    "tweets"
   ]
  },
  {
   "cell_type": "code",
   "execution_count": 11,
   "metadata": {},
   "outputs": [],
   "source": [
    "#setting the tweets details like the geography, the tweet text, the user screen name and the user location in different columns\n",
    "tweet_details = [[tweet.geo, tweet.text, tweet.user.screen_name, tweet.user.location] for tweet in tweets]"
   ]
  },
  {
   "cell_type": "markdown",
   "metadata": {},
   "source": [
    "The best way to store data for analysis in python is to convert it into a dataframe:"
   ]
  },
  {
   "cell_type": "code",
   "execution_count": 12,
   "metadata": {},
   "outputs": [],
   "source": [
    "#converting into a dataframe\n",
    "tweet_df = pd.DataFrame(data=tweet_details, columns=['geo','text','user','location'])"
   ]
  },
  {
   "cell_type": "code",
   "execution_count": 13,
   "metadata": {},
   "outputs": [
    {
     "data": {
      "text/html": [
       "<div>\n",
       "<style scoped>\n",
       "    .dataframe tbody tr th:only-of-type {\n",
       "        vertical-align: middle;\n",
       "    }\n",
       "\n",
       "    .dataframe tbody tr th {\n",
       "        vertical-align: top;\n",
       "    }\n",
       "\n",
       "    .dataframe thead th {\n",
       "        text-align: right;\n",
       "    }\n",
       "</style>\n",
       "<table border=\"1\" class=\"dataframe\">\n",
       "  <thead>\n",
       "    <tr style=\"text-align: right;\">\n",
       "      <th></th>\n",
       "      <th>geo</th>\n",
       "      <th>text</th>\n",
       "      <th>user</th>\n",
       "      <th>location</th>\n",
       "    </tr>\n",
       "  </thead>\n",
       "  <tbody>\n",
       "    <tr>\n",
       "      <th>0</th>\n",
       "      <td>None</td>\n",
       "      <td>RT @muzaffarmoorad: iOS 14 Beta 3 is OUT!\\nhttps://t.co/EfhtwNRWpM\\n#iOS14 #iOS14DevBeta3 #iOS14beta #WWDC \\n#iOS1351 #iOSDevBeta #iOS136 #iOS…</td>\n",
       "      <td>AppleEducate</td>\n",
       "      <td>Tampa, FL</td>\n",
       "    </tr>\n",
       "    <tr>\n",
       "      <th>1</th>\n",
       "      <td>None</td>\n",
       "      <td>iOS 14 Beta 3 is OUT!\\nhttps://t.co/EfhtwNRWpM\\n#iOS14 #iOS14DevBeta3 #iOS14beta #WWDC \\n#iOS1351 #iOSDevBeta #iOS136… https://t.co/CKi0Plzvn9</td>\n",
       "      <td>muzaffarmoorad</td>\n",
       "      <td></td>\n",
       "    </tr>\n",
       "    <tr>\n",
       "      <th>2</th>\n",
       "      <td>None</td>\n",
       "      <td>Who remembers this secret gem? 😜 #wwdc\\n\\nhttps://t.co/2UXkHNlKXy</td>\n",
       "      <td>macOScraig</td>\n",
       "      <td>Secret AppleOS Room👨‍💻</td>\n",
       "    </tr>\n",
       "    <tr>\n",
       "      <th>3</th>\n",
       "      <td>None</td>\n",
       "      <td>RT @9techeleven: #iOS14 Developer Beta 3 has been released. \\n\\nSame for iPadOS 14 and WatchOS 7. \\n\\nWho’s getting it?\\n\\n#iOS14 #iPadOS14 #macO…</td>\n",
       "      <td>DimiTak</td>\n",
       "      <td>Greece</td>\n",
       "    </tr>\n",
       "    <tr>\n",
       "      <th>4</th>\n",
       "      <td>None</td>\n",
       "      <td>#iOS14 Developer Beta 3 has been released. \\n\\nSame for iPadOS 14 and WatchOS 7. \\n\\nWho’s getting it?\\n\\n#iOS14… https://t.co/SgvLyD1Bye</td>\n",
       "      <td>9techeleven</td>\n",
       "      <td>Greece</td>\n",
       "    </tr>\n",
       "    <tr>\n",
       "      <th>5</th>\n",
       "      <td>None</td>\n",
       "      <td>RT @linktovr: Augmented reality &amp;amp; shiny new iMacs: What to expect from @Apple’s WWDC 2020\\n\\n#xr #ar #vr #wwdc #apple #technology #new #excit…</td>\n",
       "      <td>sadieorganic</td>\n",
       "      <td></td>\n",
       "    </tr>\n",
       "    <tr>\n",
       "      <th>6</th>\n",
       "      <td>None</td>\n",
       "      <td>RT @windowscentral: Meanwhile at #WWDC, Apple invented... *checks notes*... Windows Phone?! 😱 🤔 https://t.co/L58skcDg1y</td>\n",
       "      <td>TenMirim</td>\n",
       "      <td>Česká republika</td>\n",
       "    </tr>\n",
       "    <tr>\n",
       "      <th>7</th>\n",
       "      <td>None</td>\n",
       "      <td>Advancements in the Objective-C runtime - #WWDC 2020 https://t.co/yNfun4aXie</td>\n",
       "      <td>NATEBOLT01</td>\n",
       "      <td></td>\n",
       "    </tr>\n",
       "    <tr>\n",
       "      <th>8</th>\n",
       "      <td>None</td>\n",
       "      <td>RT @TechAcrobat: iOS 14 Privacy Features List: iOS Just DESTROYED Android With These\\nRead here -&amp;gt; https://t.co/ACvlYZNIZr\\n#AppleEvent #Appl…</td>\n",
       "      <td>TechAcrobat</td>\n",
       "      <td>Pakistan</td>\n",
       "    </tr>\n",
       "    <tr>\n",
       "      <th>9</th>\n",
       "      <td>None</td>\n",
       "      <td>RT @SimplicityMerch: We offer worldwide shipping thanks to @teespring! \\n\\n#apple #iphone #applewatch #iOS #applewatch #ios #airpods #ipad #s…</td>\n",
       "      <td>ennomnom</td>\n",
       "      <td></td>\n",
       "    </tr>\n",
       "    <tr>\n",
       "      <th>10</th>\n",
       "      <td>None</td>\n",
       "      <td>We offer worldwide shipping thanks to @teespring! \\n\\n#apple #iphone #applewatch #iOS #applewatch #ios #airpods #ipad… https://t.co/VjnmaLauu3</td>\n",
       "      <td>SimplicityMerch</td>\n",
       "      <td></td>\n",
       "    </tr>\n",
       "    <tr>\n",
       "      <th>11</th>\n",
       "      <td>None</td>\n",
       "      <td>RT @VivekRai20: Intel after Apple dumped it #WWDC2020 #WWDC https://t.co/l8cz2dc8wu</td>\n",
       "      <td>shwayenoor</td>\n",
       "      <td></td>\n",
       "    </tr>\n",
       "    <tr>\n",
       "      <th>12</th>\n",
       "      <td>None</td>\n",
       "      <td>RT @Octronreloaded: Dr.Octron strikes back.\\n\\nCalling all SuperHero's !!!\\n\\nLaunching Soon Only on iOS\\n\\nRegister NOW for exclusives \\nhttps://…</td>\n",
       "      <td>KoolMathsGames</td>\n",
       "      <td></td>\n",
       "    </tr>\n",
       "    <tr>\n",
       "      <th>13</th>\n",
       "      <td>None</td>\n",
       "      <td>A nice overview of everything @Apple announced during their last #wwdc. Overview produced by @JonnyDaenen, nice job… https://t.co/2AjGHKOtOx</td>\n",
       "      <td>frederikbove</td>\n",
       "      <td>Hove, België</td>\n",
       "    </tr>\n",
       "    <tr>\n",
       "      <th>14</th>\n",
       "      <td>None</td>\n",
       "      <td>RT @code_theorem: Left or Right. What say? \\n#apple #bigsur  #wwdc2020 #wwdc #wwdc20 #iphone #iphoneupdates #ios #mac #macos #tech #applelea…</td>\n",
       "      <td>prem_parmar_18</td>\n",
       "      <td>Ahmadabad City, India</td>\n",
       "    </tr>\n",
       "    <tr>\n",
       "      <th>15</th>\n",
       "      <td>None</td>\n",
       "      <td>RT @code_theorem: Left or Right. What say? \\n#apple #bigsur  #wwdc2020 #wwdc #wwdc20 #iphone #iphoneupdates #ios #mac #macos #tech #applelea…</td>\n",
       "      <td>ennomnom</td>\n",
       "      <td></td>\n",
       "    </tr>\n",
       "    <tr>\n",
       "      <th>16</th>\n",
       "      <td>None</td>\n",
       "      <td>When you say Applications vs Apps, my brain takes time to process. #wwdc #healthkit</td>\n",
       "      <td>sminrana</td>\n",
       "      <td>Dhaka. Earth.</td>\n",
       "    </tr>\n",
       "    <tr>\n",
       "      <th>17</th>\n",
       "      <td>None</td>\n",
       "      <td>Left or Right. What say? \\n#apple #bigsur  #wwdc2020 #wwdc #wwdc20 #iphone #iphoneupdates #ios #mac #macos #tech… https://t.co/cWosJtYLbI</td>\n",
       "      <td>code_theorem</td>\n",
       "      <td></td>\n",
       "    </tr>\n",
       "    <tr>\n",
       "      <th>18</th>\n",
       "      <td>None</td>\n",
       "      <td>RT @micrograx: Well, I can now announce my next project. Starting tomorrow July 21st I will be hosting @ScholarsPodcast where I will be int…</td>\n",
       "      <td>parik_v</td>\n",
       "      <td>Bengaluru, India</td>\n",
       "    </tr>\n",
       "    <tr>\n",
       "      <th>19</th>\n",
       "      <td>None</td>\n",
       "      <td>@markos @JohnKasich They should hire the same team that produced the @Apple #wwdc keynote.</td>\n",
       "      <td>ericfgould</td>\n",
       "      <td>Plano, TX</td>\n",
       "    </tr>\n",
       "  </tbody>\n",
       "</table>\n",
       "</div>"
      ],
      "text/plain": [
       "     geo  \\\n",
       "0   None   \n",
       "1   None   \n",
       "2   None   \n",
       "3   None   \n",
       "4   None   \n",
       "5   None   \n",
       "6   None   \n",
       "7   None   \n",
       "8   None   \n",
       "9   None   \n",
       "10  None   \n",
       "11  None   \n",
       "12  None   \n",
       "13  None   \n",
       "14  None   \n",
       "15  None   \n",
       "16  None   \n",
       "17  None   \n",
       "18  None   \n",
       "19  None   \n",
       "\n",
       "                                                                                                                                                   text  \\\n",
       "0       RT @muzaffarmoorad: iOS 14 Beta 3 is OUT!\\nhttps://t.co/EfhtwNRWpM\\n#iOS14 #iOS14DevBeta3 #iOS14beta #WWDC \\n#iOS1351 #iOSDevBeta #iOS136 #iOS…   \n",
       "1        iOS 14 Beta 3 is OUT!\\nhttps://t.co/EfhtwNRWpM\\n#iOS14 #iOS14DevBeta3 #iOS14beta #WWDC \\n#iOS1351 #iOSDevBeta #iOS136… https://t.co/CKi0Plzvn9   \n",
       "2                                                                                     Who remembers this secret gem? 😜 #wwdc\\n\\nhttps://t.co/2UXkHNlKXy   \n",
       "3    RT @9techeleven: #iOS14 Developer Beta 3 has been released. \\n\\nSame for iPadOS 14 and WatchOS 7. \\n\\nWho’s getting it?\\n\\n#iOS14 #iPadOS14 #macO…   \n",
       "4             #iOS14 Developer Beta 3 has been released. \\n\\nSame for iPadOS 14 and WatchOS 7. \\n\\nWho’s getting it?\\n\\n#iOS14… https://t.co/SgvLyD1Bye   \n",
       "5    RT @linktovr: Augmented reality &amp; shiny new iMacs: What to expect from @Apple’s WWDC 2020\\n\\n#xr #ar #vr #wwdc #apple #technology #new #excit…   \n",
       "6                               RT @windowscentral: Meanwhile at #WWDC, Apple invented... *checks notes*... Windows Phone?! 😱 🤔 https://t.co/L58skcDg1y   \n",
       "7                                                                          Advancements in the Objective-C runtime - #WWDC 2020 https://t.co/yNfun4aXie   \n",
       "8     RT @TechAcrobat: iOS 14 Privacy Features List: iOS Just DESTROYED Android With These\\nRead here -&gt; https://t.co/ACvlYZNIZr\\n#AppleEvent #Appl…   \n",
       "9        RT @SimplicityMerch: We offer worldwide shipping thanks to @teespring! \\n\\n#apple #iphone #applewatch #iOS #applewatch #ios #airpods #ipad #s…   \n",
       "10       We offer worldwide shipping thanks to @teespring! \\n\\n#apple #iphone #applewatch #iOS #applewatch #ios #airpods #ipad… https://t.co/VjnmaLauu3   \n",
       "11                                                                  RT @VivekRai20: Intel after Apple dumped it #WWDC2020 #WWDC https://t.co/l8cz2dc8wu   \n",
       "12  RT @Octronreloaded: Dr.Octron strikes back.\\n\\nCalling all SuperHero's !!!\\n\\nLaunching Soon Only on iOS\\n\\nRegister NOW for exclusives \\nhttps://…   \n",
       "13         A nice overview of everything @Apple announced during their last #wwdc. Overview produced by @JonnyDaenen, nice job… https://t.co/2AjGHKOtOx   \n",
       "14        RT @code_theorem: Left or Right. What say? \\n#apple #bigsur  #wwdc2020 #wwdc #wwdc20 #iphone #iphoneupdates #ios #mac #macos #tech #applelea…   \n",
       "15        RT @code_theorem: Left or Right. What say? \\n#apple #bigsur  #wwdc2020 #wwdc #wwdc20 #iphone #iphoneupdates #ios #mac #macos #tech #applelea…   \n",
       "16                                                                  When you say Applications vs Apps, my brain takes time to process. #wwdc #healthkit   \n",
       "17            Left or Right. What say? \\n#apple #bigsur  #wwdc2020 #wwdc #wwdc20 #iphone #iphoneupdates #ios #mac #macos #tech… https://t.co/cWosJtYLbI   \n",
       "18         RT @micrograx: Well, I can now announce my next project. Starting tomorrow July 21st I will be hosting @ScholarsPodcast where I will be int…   \n",
       "19                                                           @markos @JohnKasich They should hire the same team that produced the @Apple #wwdc keynote.   \n",
       "\n",
       "               user                location  \n",
       "0      AppleEducate               Tampa, FL  \n",
       "1    muzaffarmoorad                          \n",
       "2        macOScraig  Secret AppleOS Room👨‍💻  \n",
       "3           DimiTak                  Greece  \n",
       "4       9techeleven                  Greece  \n",
       "5      sadieorganic                          \n",
       "6          TenMirim         Česká republika  \n",
       "7        NATEBOLT01                          \n",
       "8       TechAcrobat                Pakistan  \n",
       "9          ennomnom                          \n",
       "10  SimplicityMerch                          \n",
       "11       shwayenoor                          \n",
       "12   KoolMathsGames                          \n",
       "13     frederikbove            Hove, België  \n",
       "14   prem_parmar_18   Ahmadabad City, India  \n",
       "15         ennomnom                          \n",
       "16         sminrana           Dhaka. Earth.  \n",
       "17     code_theorem                          \n",
       "18          parik_v        Bengaluru, India  \n",
       "19       ericfgould               Plano, TX  "
      ]
     },
     "execution_count": 13,
     "metadata": {},
     "output_type": "execute_result"
    }
   ],
   "source": [
    "#looking at the first 20 rows of the dataframe\n",
    "pd.set_option('max_colwidth',800)\n",
    "\n",
    "tweet_df.head(20)"
   ]
  },
  {
   "cell_type": "markdown",
   "metadata": {},
   "source": [
    "So as can be seen from above that we now have the dataframe containing tweets having the #wwdc and we also have the associated user and their location information. Now the next step is to clean the tweets and do some general analysis."
   ]
  },
  {
   "cell_type": "markdown",
   "metadata": {},
   "source": [
    "The following section gives a count of the tweets per user:"
   ]
  },
  {
   "cell_type": "code",
   "execution_count": 14,
   "metadata": {},
   "outputs": [
    {
     "data": {
      "text/plain": [
       "SimplicityMerch    14\n",
       "ennomnom            6\n",
       "PocktExperiment     4\n",
       "DevSwiftUI          4\n",
       "muzaffarmoorad      3\n",
       "                   ..\n",
       "mstea_ebooks        1\n",
       "Sheldon444          1\n",
       "shwayenoor          1\n",
       "MrPetovan           1\n",
       "gmcs_copenhagen     1\n",
       "Name: user, Length: 124, dtype: int64"
      ]
     },
     "execution_count": 14,
     "metadata": {},
     "output_type": "execute_result"
    }
   ],
   "source": [
    "#finding the number of tweets in the dataframe per user\n",
    "tweet_df.user.value_counts()"
   ]
  },
  {
   "cell_type": "markdown",
   "metadata": {},
   "source": [
    "The following section gives a count of the tweets per user-location:"
   ]
  },
  {
   "cell_type": "code",
   "execution_count": 15,
   "metadata": {},
   "outputs": [
    {
     "data": {
      "text/plain": [
       "                     66\n",
       "San Francisco, CA     6\n",
       "California, USA       4\n",
       "Earth                 3\n",
       "Chicago, IL           2\n",
       "                     ..\n",
       "Japan                 1\n",
       "Auburn, WA            1\n",
       "BVT - PC              1\n",
       "Strongsville, OH      1\n",
       "NY / SF               1\n",
       "Name: location, Length: 79, dtype: int64"
      ]
     },
     "execution_count": 15,
     "metadata": {},
     "output_type": "execute_result"
    }
   ],
   "source": [
    "#finding the number of tweets per location\n",
    "tweet_df.location.value_counts()"
   ]
  },
  {
   "cell_type": "markdown",
   "metadata": {},
   "source": [
    "# Cleaning the tweets"
   ]
  },
  {
   "cell_type": "code",
   "execution_count": 16,
   "metadata": {},
   "outputs": [],
   "source": [
    "#defining a function to clean the tweets using regex\n",
    "def clean_tweets(text):\n",
    "    text = re.sub('RT @[\\w]*:','',text)\n",
    "    text = re.sub('@[\\w]*','',text)\n",
    "    text = re.sub(\"https?://[A-Za-z0-9./]*\",\"\",text)\n",
    "    text = re.sub('\\n','',text)\n",
    "    return text"
   ]
  },
  {
   "cell_type": "code",
   "execution_count": 17,
   "metadata": {},
   "outputs": [],
   "source": [
    "#applying the cleaning function on the tweet text\n",
    "tweet_df['text']=tweet_df['text'].apply(lambda x: clean_tweets(x))"
   ]
  },
  {
   "cell_type": "code",
   "execution_count": 18,
   "metadata": {},
   "outputs": [
    {
     "data": {
      "text/html": [
       "<div>\n",
       "<style scoped>\n",
       "    .dataframe tbody tr th:only-of-type {\n",
       "        vertical-align: middle;\n",
       "    }\n",
       "\n",
       "    .dataframe tbody tr th {\n",
       "        vertical-align: top;\n",
       "    }\n",
       "\n",
       "    .dataframe thead th {\n",
       "        text-align: right;\n",
       "    }\n",
       "</style>\n",
       "<table border=\"1\" class=\"dataframe\">\n",
       "  <thead>\n",
       "    <tr style=\"text-align: right;\">\n",
       "      <th></th>\n",
       "      <th>geo</th>\n",
       "      <th>text</th>\n",
       "      <th>user</th>\n",
       "      <th>location</th>\n",
       "    </tr>\n",
       "  </thead>\n",
       "  <tbody>\n",
       "    <tr>\n",
       "      <th>0</th>\n",
       "      <td>None</td>\n",
       "      <td>iOS 14 Beta 3 is OUT!#iOS14 #iOS14DevBeta3 #iOS14beta #WWDC #iOS1351 #iOSDevBeta #iOS136 #iOS…</td>\n",
       "      <td>AppleEducate</td>\n",
       "      <td>Tampa, FL</td>\n",
       "    </tr>\n",
       "    <tr>\n",
       "      <th>1</th>\n",
       "      <td>None</td>\n",
       "      <td>iOS 14 Beta 3 is OUT!#iOS14 #iOS14DevBeta3 #iOS14beta #WWDC #iOS1351 #iOSDevBeta #iOS136…</td>\n",
       "      <td>muzaffarmoorad</td>\n",
       "      <td></td>\n",
       "    </tr>\n",
       "    <tr>\n",
       "      <th>2</th>\n",
       "      <td>None</td>\n",
       "      <td>Who remembers this secret gem? 😜 #wwdc</td>\n",
       "      <td>macOScraig</td>\n",
       "      <td>Secret AppleOS Room👨‍💻</td>\n",
       "    </tr>\n",
       "    <tr>\n",
       "      <th>3</th>\n",
       "      <td>None</td>\n",
       "      <td>#iOS14 Developer Beta 3 has been released. Same for iPadOS 14 and WatchOS 7. Who’s getting it?#iOS14 #iPadOS14 #macO…</td>\n",
       "      <td>DimiTak</td>\n",
       "      <td>Greece</td>\n",
       "    </tr>\n",
       "    <tr>\n",
       "      <th>4</th>\n",
       "      <td>None</td>\n",
       "      <td>#iOS14 Developer Beta 3 has been released. Same for iPadOS 14 and WatchOS 7. Who’s getting it?#iOS14…</td>\n",
       "      <td>9techeleven</td>\n",
       "      <td>Greece</td>\n",
       "    </tr>\n",
       "    <tr>\n",
       "      <th>5</th>\n",
       "      <td>None</td>\n",
       "      <td>Augmented reality &amp;amp; shiny new iMacs: What to expect from ’s WWDC 2020#xr #ar #vr #wwdc #apple #technology #new #excit…</td>\n",
       "      <td>sadieorganic</td>\n",
       "      <td></td>\n",
       "    </tr>\n",
       "    <tr>\n",
       "      <th>6</th>\n",
       "      <td>None</td>\n",
       "      <td>Meanwhile at #WWDC, Apple invented... *checks notes*... Windows Phone?! 😱 🤔</td>\n",
       "      <td>TenMirim</td>\n",
       "      <td>Česká republika</td>\n",
       "    </tr>\n",
       "    <tr>\n",
       "      <th>7</th>\n",
       "      <td>None</td>\n",
       "      <td>Advancements in the Objective-C runtime - #WWDC 2020</td>\n",
       "      <td>NATEBOLT01</td>\n",
       "      <td></td>\n",
       "    </tr>\n",
       "    <tr>\n",
       "      <th>8</th>\n",
       "      <td>None</td>\n",
       "      <td>iOS 14 Privacy Features List: iOS Just DESTROYED Android With TheseRead here -&amp;gt; #AppleEvent #Appl…</td>\n",
       "      <td>TechAcrobat</td>\n",
       "      <td>Pakistan</td>\n",
       "    </tr>\n",
       "    <tr>\n",
       "      <th>9</th>\n",
       "      <td>None</td>\n",
       "      <td>We offer worldwide shipping thanks to ! #apple #iphone #applewatch #iOS #applewatch #ios #airpods #ipad #s…</td>\n",
       "      <td>ennomnom</td>\n",
       "      <td></td>\n",
       "    </tr>\n",
       "    <tr>\n",
       "      <th>10</th>\n",
       "      <td>None</td>\n",
       "      <td>We offer worldwide shipping thanks to ! #apple #iphone #applewatch #iOS #applewatch #ios #airpods #ipad…</td>\n",
       "      <td>SimplicityMerch</td>\n",
       "      <td></td>\n",
       "    </tr>\n",
       "    <tr>\n",
       "      <th>11</th>\n",
       "      <td>None</td>\n",
       "      <td>Intel after Apple dumped it #WWDC2020 #WWDC</td>\n",
       "      <td>shwayenoor</td>\n",
       "      <td></td>\n",
       "    </tr>\n",
       "    <tr>\n",
       "      <th>12</th>\n",
       "      <td>None</td>\n",
       "      <td>Dr.Octron strikes back.Calling all SuperHero's !!!Launching Soon Only on iOSRegister NOW for exclusives …</td>\n",
       "      <td>KoolMathsGames</td>\n",
       "      <td></td>\n",
       "    </tr>\n",
       "    <tr>\n",
       "      <th>13</th>\n",
       "      <td>None</td>\n",
       "      <td>A nice overview of everything  announced during their last #wwdc. Overview produced by , nice job…</td>\n",
       "      <td>frederikbove</td>\n",
       "      <td>Hove, België</td>\n",
       "    </tr>\n",
       "    <tr>\n",
       "      <th>14</th>\n",
       "      <td>None</td>\n",
       "      <td>Left or Right. What say? #apple #bigsur  #wwdc2020 #wwdc #wwdc20 #iphone #iphoneupdates #ios #mac #macos #tech #applelea…</td>\n",
       "      <td>prem_parmar_18</td>\n",
       "      <td>Ahmadabad City, India</td>\n",
       "    </tr>\n",
       "    <tr>\n",
       "      <th>15</th>\n",
       "      <td>None</td>\n",
       "      <td>Left or Right. What say? #apple #bigsur  #wwdc2020 #wwdc #wwdc20 #iphone #iphoneupdates #ios #mac #macos #tech #applelea…</td>\n",
       "      <td>ennomnom</td>\n",
       "      <td></td>\n",
       "    </tr>\n",
       "    <tr>\n",
       "      <th>16</th>\n",
       "      <td>None</td>\n",
       "      <td>When you say Applications vs Apps, my brain takes time to process. #wwdc #healthkit</td>\n",
       "      <td>sminrana</td>\n",
       "      <td>Dhaka. Earth.</td>\n",
       "    </tr>\n",
       "    <tr>\n",
       "      <th>17</th>\n",
       "      <td>None</td>\n",
       "      <td>Left or Right. What say? #apple #bigsur  #wwdc2020 #wwdc #wwdc20 #iphone #iphoneupdates #ios #mac #macos #tech…</td>\n",
       "      <td>code_theorem</td>\n",
       "      <td></td>\n",
       "    </tr>\n",
       "    <tr>\n",
       "      <th>18</th>\n",
       "      <td>None</td>\n",
       "      <td>Well, I can now announce my next project. Starting tomorrow July 21st I will be hosting  where I will be int…</td>\n",
       "      <td>parik_v</td>\n",
       "      <td>Bengaluru, India</td>\n",
       "    </tr>\n",
       "    <tr>\n",
       "      <th>19</th>\n",
       "      <td>None</td>\n",
       "      <td>They should hire the same team that produced the  #wwdc keynote.</td>\n",
       "      <td>ericfgould</td>\n",
       "      <td>Plano, TX</td>\n",
       "    </tr>\n",
       "  </tbody>\n",
       "</table>\n",
       "</div>"
      ],
      "text/plain": [
       "     geo  \\\n",
       "0   None   \n",
       "1   None   \n",
       "2   None   \n",
       "3   None   \n",
       "4   None   \n",
       "5   None   \n",
       "6   None   \n",
       "7   None   \n",
       "8   None   \n",
       "9   None   \n",
       "10  None   \n",
       "11  None   \n",
       "12  None   \n",
       "13  None   \n",
       "14  None   \n",
       "15  None   \n",
       "16  None   \n",
       "17  None   \n",
       "18  None   \n",
       "19  None   \n",
       "\n",
       "                                                                                                                           text  \\\n",
       "0                                iOS 14 Beta 3 is OUT!#iOS14 #iOS14DevBeta3 #iOS14beta #WWDC #iOS1351 #iOSDevBeta #iOS136 #iOS…   \n",
       "1                                    iOS 14 Beta 3 is OUT!#iOS14 #iOS14DevBeta3 #iOS14beta #WWDC #iOS1351 #iOSDevBeta #iOS136…    \n",
       "2                                                                                        Who remembers this secret gem? 😜 #wwdc   \n",
       "3         #iOS14 Developer Beta 3 has been released. Same for iPadOS 14 and WatchOS 7. Who’s getting it?#iOS14 #iPadOS14 #macO…   \n",
       "4                        #iOS14 Developer Beta 3 has been released. Same for iPadOS 14 and WatchOS 7. Who’s getting it?#iOS14…    \n",
       "5    Augmented reality &amp; shiny new iMacs: What to expect from ’s WWDC 2020#xr #ar #vr #wwdc #apple #technology #new #excit…   \n",
       "6                                                  Meanwhile at #WWDC, Apple invented... *checks notes*... Windows Phone?! 😱 🤔    \n",
       "7                                                                         Advancements in the Objective-C runtime - #WWDC 2020    \n",
       "8                         iOS 14 Privacy Features List: iOS Just DESTROYED Android With TheseRead here -&gt; #AppleEvent #Appl…   \n",
       "9                   We offer worldwide shipping thanks to ! #apple #iphone #applewatch #iOS #applewatch #ios #airpods #ipad #s…   \n",
       "10                    We offer worldwide shipping thanks to ! #apple #iphone #applewatch #iOS #applewatch #ios #airpods #ipad…    \n",
       "11                                                                                 Intel after Apple dumped it #WWDC2020 #WWDC    \n",
       "12                    Dr.Octron strikes back.Calling all SuperHero's !!!Launching Soon Only on iOSRegister NOW for exclusives …   \n",
       "13                          A nice overview of everything  announced during their last #wwdc. Overview produced by , nice job…    \n",
       "14    Left or Right. What say? #apple #bigsur  #wwdc2020 #wwdc #wwdc20 #iphone #iphoneupdates #ios #mac #macos #tech #applelea…   \n",
       "15    Left or Right. What say? #apple #bigsur  #wwdc2020 #wwdc #wwdc20 #iphone #iphoneupdates #ios #mac #macos #tech #applelea…   \n",
       "16                                          When you say Applications vs Apps, my brain takes time to process. #wwdc #healthkit   \n",
       "17             Left or Right. What say? #apple #bigsur  #wwdc2020 #wwdc #wwdc20 #iphone #iphoneupdates #ios #mac #macos #tech…    \n",
       "18                Well, I can now announce my next project. Starting tomorrow July 21st I will be hosting  where I will be int…   \n",
       "19                                                             They should hire the same team that produced the  #wwdc keynote.   \n",
       "\n",
       "               user                location  \n",
       "0      AppleEducate               Tampa, FL  \n",
       "1    muzaffarmoorad                          \n",
       "2        macOScraig  Secret AppleOS Room👨‍💻  \n",
       "3           DimiTak                  Greece  \n",
       "4       9techeleven                  Greece  \n",
       "5      sadieorganic                          \n",
       "6          TenMirim         Česká republika  \n",
       "7        NATEBOLT01                          \n",
       "8       TechAcrobat                Pakistan  \n",
       "9          ennomnom                          \n",
       "10  SimplicityMerch                          \n",
       "11       shwayenoor                          \n",
       "12   KoolMathsGames                          \n",
       "13     frederikbove            Hove, België  \n",
       "14   prem_parmar_18   Ahmadabad City, India  \n",
       "15         ennomnom                          \n",
       "16         sminrana           Dhaka. Earth.  \n",
       "17     code_theorem                          \n",
       "18          parik_v        Bengaluru, India  \n",
       "19       ericfgould               Plano, TX  "
      ]
     },
     "execution_count": 18,
     "metadata": {},
     "output_type": "execute_result"
    }
   ],
   "source": [
    "#looking at the datframe after cleaning the tweets\n",
    "tweet_df.head(20)"
   ]
  },
  {
   "cell_type": "markdown",
   "metadata": {},
   "source": [
    "Now as can be seen from the above dataframe that the tweets are now cleaned and next it's important to save a copy of this dataframe locally so that it can be used for any later analysis or reference. "
   ]
  },
  {
   "cell_type": "code",
   "execution_count": 17,
   "metadata": {},
   "outputs": [],
   "source": [
    "#loading/saving the cleaned dataframe to a csv file\n",
    "tweet_df.to_csv('tweets_wwdc.csv')"
   ]
  },
  {
   "cell_type": "markdown",
   "metadata": {},
   "source": [
    "# Sentiment Analysis using NLTK"
   ]
  },
  {
   "cell_type": "markdown",
   "metadata": {},
   "source": [
    "So now we have collected the necessary data (the tweets about the wwdc)  for the analysis and now we will proceed with steps for the performing the analysis:"
   ]
  },
  {
   "cell_type": "code",
   "execution_count": 19,
   "metadata": {},
   "outputs": [
    {
     "name": "stderr",
     "output_type": "stream",
     "text": [
      "[nltk_data] Downloading package twitter_samples to\n",
      "[nltk_data]     C:\\Users\\User\\AppData\\Roaming\\nltk_data...\n",
      "[nltk_data]   Package twitter_samples is already up-to-date!\n",
      "[nltk_data] Downloading package punkt to\n",
      "[nltk_data]     C:\\Users\\User\\AppData\\Roaming\\nltk_data...\n",
      "[nltk_data]   Package punkt is already up-to-date!\n"
     ]
    },
    {
     "data": {
      "text/plain": [
       "True"
      ]
     },
     "execution_count": 19,
     "metadata": {},
     "output_type": "execute_result"
    }
   ],
   "source": [
    "#downloading the nltk twitter package for further analysis\n",
    "nltk.download('twitter_samples')\n",
    "nltk.download('punkt')"
   ]
  },
  {
   "cell_type": "markdown",
   "metadata": {},
   "source": [
    "So in the above code section we downloaded the 'twitter_samples' package from which we can use the sample of positive and negative tweets for trainning our model for the sentiment analysis"
   ]
  },
  {
   "cell_type": "code",
   "execution_count": 20,
   "metadata": {},
   "outputs": [],
   "source": [
    "#loading the positive and negative tweets from the twitter_samples package to local variables\n",
    "positive_tweets = twitter_samples.strings('positive_tweets.json')\n",
    "negative_tweets = twitter_samples.strings('negative_tweets.json')\n",
    "text = twitter_samples.strings('tweets.20150430-223406.json')"
   ]
  },
  {
   "cell_type": "code",
   "execution_count": 21,
   "metadata": {},
   "outputs": [],
   "source": [
    "#tokenizing the tweets\n",
    "positive_tweet_tokens = twitter_samples.tokenized('positive_tweets.json')\n",
    "negative_tweets_token = twitter_samples.tokenized('negative_tweets.json')"
   ]
  },
  {
   "cell_type": "code",
   "execution_count": 22,
   "metadata": {},
   "outputs": [
    {
     "name": "stderr",
     "output_type": "stream",
     "text": [
      "[nltk_data] Downloading package wordnet to\n",
      "[nltk_data]     C:\\Users\\User\\AppData\\Roaming\\nltk_data...\n",
      "[nltk_data]   Package wordnet is already up-to-date!\n",
      "[nltk_data] Downloading package averaged_perceptron_tagger to\n",
      "[nltk_data]     C:\\Users\\User\\AppData\\Roaming\\nltk_data...\n",
      "[nltk_data]   Package averaged_perceptron_tagger is already up-to-\n",
      "[nltk_data]       date!\n"
     ]
    },
    {
     "data": {
      "text/plain": [
       "True"
      ]
     },
     "execution_count": 22,
     "metadata": {},
     "output_type": "execute_result"
    }
   ],
   "source": [
    "nltk.download('wordnet')\n",
    "nltk.download('averaged_perceptron_tagger')"
   ]
  },
  {
   "cell_type": "markdown",
   "metadata": {},
   "source": [
    "It is important to first clean and then tokenize the positive and negative twitter samples to prepare them for the modelling purpose:"
   ]
  },
  {
   "cell_type": "code",
   "execution_count": 23,
   "metadata": {},
   "outputs": [],
   "source": [
    "#defining a function to remove noise from the tweets\n",
    "\n",
    "def remove_noise(tweet_tokens, stop_words = ()):\n",
    "\n",
    "    cleaned_tokens = []\n",
    "\n",
    "    for token, tag in pos_tag(tweet_tokens):\n",
    "        token = re.sub('http[s]?://(?:[a-zA-Z]|[0-9]|[$-_@.&+#]|[!*\\(\\),]|'\\\n",
    "                       '(?:%[0-9a-fA-F][0-9a-fA-F]))+','', token)\n",
    "        token = re.sub(\"(@[A-Za-z0-9_]+)\",\"\", token)\n",
    "\n",
    "        if tag.startswith(\"NN\"):\n",
    "            pos = 'n'\n",
    "        elif tag.startswith('VB'):\n",
    "            pos = 'v'\n",
    "        else:\n",
    "            pos = 'a'\n",
    "\n",
    "        lemmatizer = WordNetLemmatizer()\n",
    "        token = lemmatizer.lemmatize(token, pos)\n",
    "\n",
    "        if len(token) > 0 and token not in string.punctuation and token.lower() not in stop_words:\n",
    "            cleaned_tokens.append(token.lower())\n",
    "    return cleaned_tokens"
   ]
  },
  {
   "cell_type": "code",
   "execution_count": 24,
   "metadata": {},
   "outputs": [],
   "source": [
    "#removing the stop words from the positive and negative tweet samples\n",
    "stop_words = stopwords.words('english')\n",
    "\n",
    "positive_cleaned_tokens_list = []\n",
    "negative_cleaned_tokens_list = []\n",
    "\n",
    "for tokens in positive_tweet_tokens:\n",
    "    positive_cleaned_tokens_list.append(remove_noise(tokens, stop_words))\n",
    "\n",
    "for tokens in negative_tweets_token:\n",
    "    negative_cleaned_tokens_list.append(remove_noise(tokens, stop_words))"
   ]
  },
  {
   "cell_type": "code",
   "execution_count": 25,
   "metadata": {},
   "outputs": [],
   "source": [
    "#collecting the positive and negative words from the twitter samples\n",
    "def get_all_words(cleaned_tokens_list):\n",
    "    for tokens in cleaned_tokens_list:\n",
    "        for token in tokens:\n",
    "            yield token\n",
    "\n",
    "all_pos_words = get_all_words(positive_cleaned_tokens_list)\n",
    "all_neg_words = get_all_words(negative_cleaned_tokens_list)"
   ]
  },
  {
   "cell_type": "code",
   "execution_count": 26,
   "metadata": {},
   "outputs": [
    {
     "name": "stdout",
     "output_type": "stream",
     "text": [
      "[(':)', 3691), (':-)', 701), (':d', 658), ('thanks', 388), ('follow', 357), ('love', 333), ('...', 290), ('good', 283), ('get', 263), ('thank', 253)]\n"
     ]
    }
   ],
   "source": [
    "#checking the frequency of 10 most repeated words in the positive tweets\n",
    "freq_dist_pos = FreqDist(all_pos_words)\n",
    "print(freq_dist_pos.most_common(10))\n"
   ]
  },
  {
   "cell_type": "code",
   "execution_count": 27,
   "metadata": {},
   "outputs": [
    {
     "name": "stdout",
     "output_type": "stream",
     "text": [
      "[(':(', 4585), (':-(', 501), (\"i'm\", 343), ('...', 332), ('get', 325), ('miss', 291), ('go', 275), ('please', 275), ('want', 246), ('like', 218)]\n"
     ]
    }
   ],
   "source": [
    "#checking the frequency of 10 most repeated words in the positive tweets\n",
    "freq_dist_neg = FreqDist(all_neg_words)\n",
    "print(freq_dist_neg.most_common(10))"
   ]
  },
  {
   "cell_type": "markdown",
   "metadata": {},
   "source": [
    "Now it is important to label the tokenized words as positive or negative to use them for the trainning purpose"
   ]
  },
  {
   "cell_type": "code",
   "execution_count": 28,
   "metadata": {},
   "outputs": [],
   "source": [
    "#defining a function to get tokens for trainning the model\n",
    "def get_tweets_for_model(cleaned_tokens_list):\n",
    "    for tweet_tokens in cleaned_tokens_list:\n",
    "        yield dict([token, True] for token in tweet_tokens)\n",
    "\n",
    "positive_tokens_for_model = get_tweets_for_model(positive_cleaned_tokens_list)\n",
    "negative_tokens_for_model = get_tweets_for_model(negative_cleaned_tokens_list)"
   ]
  },
  {
   "cell_type": "code",
   "execution_count": 29,
   "metadata": {},
   "outputs": [],
   "source": [
    "#giving labels to the positive and negative tweet tokens as needed for a supervised classification model\n",
    "positive_dataset = [(tweet_dict, \"Positive\")\n",
    "                     for tweet_dict in positive_tokens_for_model]\n",
    "\n",
    "negative_dataset = [(tweet_dict, \"Negative\")\n",
    "                     for tweet_dict in negative_tokens_for_model]\n",
    "\n",
    "dataset = positive_dataset + negative_dataset\n",
    "\n",
    "random.shuffle(dataset)\n",
    "#splitting the dataset into trainning and testing data\n",
    "train_data = dataset[:7000]\n",
    "test_data = dataset[7000:]"
   ]
  },
  {
   "cell_type": "markdown",
   "metadata": {},
   "source": [
    "We have chosen a Naive Bayes Classifier model for our sentiment analysis purpose as a naive bayes model performs relatively well when dealing with textual data"
   ]
  },
  {
   "cell_type": "code",
   "execution_count": 30,
   "metadata": {},
   "outputs": [
    {
     "name": "stdout",
     "output_type": "stream",
     "text": [
      "Accuracy is: 0.9943333333333333\n",
      "Most Informative Features\n",
      "                      :( = True           Negati : Positi =   2057.9 : 1.0\n",
      "                      :) = True           Positi : Negati =    977.1 : 1.0\n",
      "                follower = True           Positi : Negati =     34.5 : 1.0\n",
      "                     bam = True           Positi : Negati =     23.1 : 1.0\n",
      "                    glad = True           Positi : Negati =     21.1 : 1.0\n",
      "                 awesome = True           Positi : Negati =     19.7 : 1.0\n",
      "                     sad = True           Negati : Positi =     18.9 : 1.0\n",
      "               community = True           Positi : Negati =     15.7 : 1.0\n",
      "                     x15 = True           Negati : Positi =     15.6 : 1.0\n",
      "                followed = True           Negati : Positi =     14.6 : 1.0\n",
      "None\n"
     ]
    }
   ],
   "source": [
    "#Trainning and testing the model: \n",
    "classifier = NaiveBayesClassifier.train(train_data)\n",
    "\n",
    "print(\"Accuracy is:\", classify.accuracy(classifier, test_data))\n",
    "\n",
    "print(classifier.show_most_informative_features(10))"
   ]
  },
  {
   "cell_type": "code",
   "execution_count": 31,
   "metadata": {},
   "outputs": [],
   "source": [
    "#appending a column called 'Sentiment' to the dataset inorder to see the tweet and their respective sentiment together\n",
    "tweet_df['Sentiment']= tweet_df['text'].apply(lambda x: classifier.classify(dict([token, True] for token in remove_noise(word_tokenize(x)))))"
   ]
  },
  {
   "cell_type": "code",
   "execution_count": 32,
   "metadata": {},
   "outputs": [
    {
     "data": {
      "text/html": [
       "<div>\n",
       "<style scoped>\n",
       "    .dataframe tbody tr th:only-of-type {\n",
       "        vertical-align: middle;\n",
       "    }\n",
       "\n",
       "    .dataframe tbody tr th {\n",
       "        vertical-align: top;\n",
       "    }\n",
       "\n",
       "    .dataframe thead th {\n",
       "        text-align: right;\n",
       "    }\n",
       "</style>\n",
       "<table border=\"1\" class=\"dataframe\">\n",
       "  <thead>\n",
       "    <tr style=\"text-align: right;\">\n",
       "      <th></th>\n",
       "      <th>geo</th>\n",
       "      <th>text</th>\n",
       "      <th>user</th>\n",
       "      <th>location</th>\n",
       "      <th>Sentiment</th>\n",
       "    </tr>\n",
       "  </thead>\n",
       "  <tbody>\n",
       "    <tr>\n",
       "      <th>0</th>\n",
       "      <td>None</td>\n",
       "      <td>iOS 14 Beta 3 is OUT!#iOS14 #iOS14DevBeta3 #iOS14beta #WWDC #iOS1351 #iOSDevBeta #iOS136 #iOS…</td>\n",
       "      <td>AppleEducate</td>\n",
       "      <td>Tampa, FL</td>\n",
       "      <td>Negative</td>\n",
       "    </tr>\n",
       "    <tr>\n",
       "      <th>1</th>\n",
       "      <td>None</td>\n",
       "      <td>iOS 14 Beta 3 is OUT!#iOS14 #iOS14DevBeta3 #iOS14beta #WWDC #iOS1351 #iOSDevBeta #iOS136…</td>\n",
       "      <td>muzaffarmoorad</td>\n",
       "      <td></td>\n",
       "      <td>Negative</td>\n",
       "    </tr>\n",
       "    <tr>\n",
       "      <th>2</th>\n",
       "      <td>None</td>\n",
       "      <td>Who remembers this secret gem? 😜 #wwdc</td>\n",
       "      <td>macOScraig</td>\n",
       "      <td>Secret AppleOS Room👨‍💻</td>\n",
       "      <td>Positive</td>\n",
       "    </tr>\n",
       "    <tr>\n",
       "      <th>3</th>\n",
       "      <td>None</td>\n",
       "      <td>#iOS14 Developer Beta 3 has been released. Same for iPadOS 14 and WatchOS 7. Who’s getting it?#iOS14 #iPadOS14 #macO…</td>\n",
       "      <td>DimiTak</td>\n",
       "      <td>Greece</td>\n",
       "      <td>Negative</td>\n",
       "    </tr>\n",
       "    <tr>\n",
       "      <th>4</th>\n",
       "      <td>None</td>\n",
       "      <td>#iOS14 Developer Beta 3 has been released. Same for iPadOS 14 and WatchOS 7. Who’s getting it?#iOS14…</td>\n",
       "      <td>9techeleven</td>\n",
       "      <td>Greece</td>\n",
       "      <td>Negative</td>\n",
       "    </tr>\n",
       "  </tbody>\n",
       "</table>\n",
       "</div>"
      ],
      "text/plain": [
       "    geo  \\\n",
       "0  None   \n",
       "1  None   \n",
       "2  None   \n",
       "3  None   \n",
       "4  None   \n",
       "\n",
       "                                                                                                                     text  \\\n",
       "0                          iOS 14 Beta 3 is OUT!#iOS14 #iOS14DevBeta3 #iOS14beta #WWDC #iOS1351 #iOSDevBeta #iOS136 #iOS…   \n",
       "1                              iOS 14 Beta 3 is OUT!#iOS14 #iOS14DevBeta3 #iOS14beta #WWDC #iOS1351 #iOSDevBeta #iOS136…    \n",
       "2                                                                                  Who remembers this secret gem? 😜 #wwdc   \n",
       "3   #iOS14 Developer Beta 3 has been released. Same for iPadOS 14 and WatchOS 7. Who’s getting it?#iOS14 #iPadOS14 #macO…   \n",
       "4                  #iOS14 Developer Beta 3 has been released. Same for iPadOS 14 and WatchOS 7. Who’s getting it?#iOS14…    \n",
       "\n",
       "             user                location Sentiment  \n",
       "0    AppleEducate               Tampa, FL  Negative  \n",
       "1  muzaffarmoorad                          Negative  \n",
       "2      macOScraig  Secret AppleOS Room👨‍💻  Positive  \n",
       "3         DimiTak                  Greece  Negative  \n",
       "4     9techeleven                  Greece  Negative  "
      ]
     },
     "execution_count": 32,
     "metadata": {},
     "output_type": "execute_result"
    }
   ],
   "source": [
    "tweet_df.head()"
   ]
  },
  {
   "cell_type": "markdown",
   "metadata": {},
   "source": [
    "So as can be seen from the above dataframe that the 'Sentiment' column represents the sentiment of the tweet"
   ]
  },
  {
   "cell_type": "code",
   "execution_count": 33,
   "metadata": {},
   "outputs": [
    {
     "data": {
      "text/plain": [
       "Positive    104\n",
       "Negative     55\n",
       "Name: Sentiment, dtype: int64"
      ]
     },
     "execution_count": 33,
     "metadata": {},
     "output_type": "execute_result"
    }
   ],
   "source": [
    "#analysing the overall sentiment of the twitter user towards the WWDC\n",
    "tweet_df['Sentiment'].value_counts()"
   ]
  },
  {
   "cell_type": "code",
   "execution_count": 37,
   "metadata": {},
   "outputs": [
    {
     "data": {
      "text/plain": [
       "Text(0.5, 1.0, 'Bar-plot representing the overall sentiment regarding the WWDC 2020')"
      ]
     },
     "execution_count": 37,
     "metadata": {},
     "output_type": "execute_result"
    },
    {
     "data": {
      "image/png": "[encoded data removed]",
      "text/plain": [
       "<Figure size 1440x360 with 2 Axes>"
      ]
     },
     "metadata": {
      "needs_background": "light"
     },
     "output_type": "display_data"
    }
   ],
   "source": [
    "#plotting the overall sentiment for a better visualization\n",
    "plt.figure(figsize=(20,5))\n",
    "plt.subplots_adjust(left=0.125, bottom=0.1, right=0.9, top=0.9,wspace=0.5, hspace=0.2)\n",
    "plt.style.use('ggplot')\n",
    "\n",
    "plt.subplot(141)\n",
    "plt.pie(tweet_df['Sentiment'].value_counts(),labels=['Positve','Negative'],autopct='%1.1f%%')\n",
    "plt.title('Overall Sentiment regarding the WWDC 2020')\n",
    "\n",
    "plt.subplot(142)\n",
    "sns.countplot(tweet_df['Sentiment'])\n",
    "plt.title('Bar-plot representing the overall sentiment regarding the WWDC 2020')"
   ]
  },
  {
   "cell_type": "markdown",
   "metadata": {},
   "source": [
    "So as can be seen that there are overall (among the 200 tweets used) more positive tweets (65.4%) about the WWDC in general thus it seems like Apple again has done really well with their conference though it was remote."
   ]
  }
 ],
 "metadata": {
  "kernelspec": {
   "display_name": "Python 3",
   "language": "python",
   "name": "python3"
  },
  "language_info": {
   "codemirror_mode": {
    "name": "ipython",
    "version": 3
   },
   "file_extension": ".py",
   "mimetype": "text/x-python",
   "name": "python",
   "nbconvert_exporter": "python",
   "pygments_lexer": "ipython3",
   "version": "3.7.6"
  }
 },
 "nbformat": 4,
 "nbformat_minor": 4
}
